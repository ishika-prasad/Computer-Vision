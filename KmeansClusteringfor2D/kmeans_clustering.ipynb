{
 "cells": [
  {
   "cell_type": "markdown",
   "metadata": {},
   "source": [
    "Ishika Prasad <br>\n",
    "ip1262@rit.edu"
   ]
  },
  {
   "cell_type": "code",
   "execution_count": 25,
   "metadata": {},
   "outputs": [],
   "source": [
    "import random\n",
    "import math"
   ]
  },
  {
   "cell_type": "code",
   "execution_count": 26,
   "metadata": {},
   "outputs": [],
   "source": [
    "def calc_euclidist(d1, d2):\n",
    "    distance = 0.0\n",
    "    for i in range(0, len(d1)):\n",
    "        distance += (d1[i] - d2[i])**2\n",
    "    return math.sqrt(distance)"
   ]
  },
  {
   "cell_type": "code",
   "execution_count": 27,
   "metadata": {},
   "outputs": [],
   "source": [
    "def calc_kmeans(points, k):\n",
    "    clusters = []\n",
    "    x = 0\n",
    "    while x != k:\n",
    "        clusters += [random.choice(points)]\n",
    "        x += 1\n",
    "\n",
    "    i = 0\n",
    "    new_cluster = len(points) * [0]\n",
    "    last_cluster = len(points) * [-1]\n",
    "    while (new_cluster != last_cluster) or (i > 1000):\n",
    "        last_cluster = list(new_cluster)\n",
    "        i += 1\n",
    "\n",
    "        for y in range(0, len(points)):\n",
    "            minimum_dist = float(\"inf\")\n",
    "            for z in range(0, len(clusters)):\n",
    "                distance = calc_euclidist(points[y], clusters[z])\n",
    "                if distance < minimum_dist:\n",
    "                    minimum_dist = distance\n",
    "                    new_cluster[y] = z\n",
    "\n",
    "        for a in range(0, len(clusters)):\n",
    "            new_centroid = len(points[0]) * [0]\n",
    "            mem = 0\n",
    "            for b in range(0, len(points)):\n",
    "                if new_cluster[b] == a:\n",
    "                    for c in range(0, len(points[0])):\n",
    "                        new_centroid[c] += points[b][c]\n",
    "                    mem += 1\n",
    "            for m in range(0, len(points[0])):\n",
    "                if mem != 0:\n",
    "                    new_centroid[m] = new_centroid[m] / float(mem)\n",
    "            clusters[a] = new_centroid\n",
    "\n",
    "    print(\"Clusters : \", clusters)"
   ]
  },
  {
   "cell_type": "code",
   "execution_count": 36,
   "metadata": {},
   "outputs": [
    {
     "name": "stdout",
     "output_type": "stream",
     "text": [
      "Clusters :  [[2.0, 2.0], [11.666666666666666, 12.666666666666666], [1.0, 1.0], [7.0, 7.666666666666667]]\n"
     ]
    }
   ],
   "source": [
    "points = [(3, 2), (2, 2), (1, 2), (1, 1), (5, 6), (7, 7), (9, 10), (11, 13), (12, 12), (12, 13)]\n",
    "k = 4\n",
    "calc_kmeans(points, k)"
   ]
  }
 ],
 "metadata": {
  "kernelspec": {
   "display_name": "Python 3",
   "language": "python",
   "name": "python3"
  },
  "language_info": {
   "codemirror_mode": {
    "name": "ipython",
    "version": 3
   },
   "file_extension": ".py",
   "mimetype": "text/x-python",
   "name": "python",
   "nbconvert_exporter": "python",
   "pygments_lexer": "ipython3",
   "version": "3.7.3"
  }
 },
 "nbformat": 4,
 "nbformat_minor": 2
}
